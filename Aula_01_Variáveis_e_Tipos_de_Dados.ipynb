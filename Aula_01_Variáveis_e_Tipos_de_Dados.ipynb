{
  "nbformat": 4,
  "nbformat_minor": 0,
  "metadata": {
    "colab": {
      "provenance": [],
      "include_colab_link": true
    },
    "kernelspec": {
      "name": "python3",
      "display_name": "Python 3"
    },
    "language_info": {
      "name": "python"
    }
  },
  "cells": [
    {
      "cell_type": "markdown",
      "metadata": {
        "id": "view-in-github",
        "colab_type": "text"
      },
      "source": [
        "<a href=\"https://colab.research.google.com/github/pedrocacioli/Exerc-cios/blob/main/Aula_01_Vari%C3%A1veis_e_Tipos_de_Dados.ipynb\" target=\"_parent\"><img src=\"https://colab.research.google.com/assets/colab-badge.svg\" alt=\"Open In Colab\"/></a>"
      ]
    },
    {
      "cell_type": "markdown",
      "source": [
        "<div>\n",
        "<p ><img  align=\"right\" src=\"https://res.cloudinary.com/crunchbase-production/image/upload/c_lpad,h_256,w_256,f_auto,q_auto:eco,dpr_1/aj29iemt0ogdyrdlksd4\" height=\"160px\"></p>\n",
        "</div>\n",
        "\n",
        "<br>\n",
        "<br>\n",
        "\n",
        "# **Aula 01 - Variáveis e Tipos de Dados**\n",
        "\n",
        "<br>\n",
        "<br>\n",
        "\n",
        "___\n",
        "\n",
        "**O que são variáveis**?\n",
        "\n",
        "São espaços reservados na memória de um dispositivo para armazenar dados .\n",
        "\n",
        "**Declaração de variáveis no python**\n",
        "\n",
        ">> ***nome_da_variável = conteúdo_da_variável***\n",
        "\n",
        "**Regras de nomeação de variáveis**\n",
        "  * Devem começar com um caractere alfabético ou underscore (_)\n",
        "  * Não podem começar com um número ou caracteres especiais\n",
        "  * Podem ser seguidos de outros caracteres alfabéticos ou numéricos\n",
        "  * As palavras reservadas não podem ser usados para nomear variáveis\n",
        "  ![palavrasChaves](https://arquivo.devmedia.com.br/artigos/Fabio_Spak/python_variaveis/Palavras_reservadas.png)\n",
        "  * *case-sensitive*: Diferencia maiúsculas e minúsculas\n",
        "\n",
        "**BOAS PRÁTICAS DE PROGRAMAÇÃO**\n",
        "\n",
        "* As variáveis devem ser nomeadas com letras minúsculas.\n",
        "* Usar nomes significativos.\n",
        "* Nomes compostos devem ser separados com um underscore (_). Exemplo: prova_matematica.\n",
        "\n",
        "\n"
      ],
      "metadata": {
        "id": "_zp4zlGAeztt"
      }
    },
    {
      "cell_type": "markdown",
      "source": [
        "### Declarações válidas"
      ],
      "metadata": {
        "id": "MAaU5WuvrAaf"
      }
    },
    {
      "cell_type": "code",
      "source": [
        "nota = 11"
      ],
      "metadata": {
        "id": "MStfMPMP744P"
      },
      "execution_count": null,
      "outputs": []
    },
    {
      "cell_type": "code",
      "source": [
        "nota"
      ],
      "metadata": {
        "colab": {
          "base_uri": "https://localhost:8080/"
        },
        "id": "37Qcwh8S74yf",
        "outputId": "31b2e5ef-842f-4871-e67b-0518157646fc"
      },
      "execution_count": null,
      "outputs": [
        {
          "output_type": "execute_result",
          "data": {
            "text/plain": [
              "11"
            ]
          },
          "metadata": {},
          "execution_count": 2
        }
      ]
    },
    {
      "cell_type": "code",
      "source": [
        "Nota = 9"
      ],
      "metadata": {
        "id": "f0YLDYrx74vX"
      },
      "execution_count": null,
      "outputs": []
    },
    {
      "cell_type": "code",
      "source": [
        "Nota"
      ],
      "metadata": {
        "colab": {
          "base_uri": "https://localhost:8080/"
        },
        "id": "-yQggbGK74tF",
        "outputId": "8d7c8547-f202-4199-adcf-81466991a94f"
      },
      "execution_count": null,
      "outputs": [
        {
          "output_type": "execute_result",
          "data": {
            "text/plain": [
              "9"
            ]
          },
          "metadata": {},
          "execution_count": 4
        }
      ]
    },
    {
      "cell_type": "code",
      "source": [
        "_nota = 8"
      ],
      "metadata": {
        "id": "b9WueiRZ-M8M"
      },
      "execution_count": null,
      "outputs": []
    },
    {
      "cell_type": "code",
      "source": [
        "nota1 = 10"
      ],
      "metadata": {
        "id": "wE1qi6zI-M5g"
      },
      "execution_count": null,
      "outputs": []
    },
    {
      "cell_type": "code",
      "source": [
        "nota_1 = 8"
      ],
      "metadata": {
        "id": "wIFN8O61-M25"
      },
      "execution_count": null,
      "outputs": []
    },
    {
      "cell_type": "code",
      "source": [
        "nota_um = 10"
      ],
      "metadata": {
        "id": "6syYKks3-bDx"
      },
      "execution_count": null,
      "outputs": []
    },
    {
      "cell_type": "markdown",
      "source": [
        "### Declarações inválidas"
      ],
      "metadata": {
        "id": "0EabJx1xrKq4"
      }
    },
    {
      "cell_type": "code",
      "source": [
        "nota 1 = 10"
      ],
      "metadata": {
        "colab": {
          "base_uri": "https://localhost:8080/",
          "height": 130
        },
        "id": "p4s6EDCD9dHn",
        "outputId": "99f481f4-2d16-442f-9d39-4b6e5f59640d"
      },
      "execution_count": null,
      "outputs": [
        {
          "output_type": "error",
          "ename": "SyntaxError",
          "evalue": "ignored",
          "traceback": [
            "\u001b[0;36m  File \u001b[0;32m\"<ipython-input-11-b37e87a81a45>\"\u001b[0;36m, line \u001b[0;32m1\u001b[0m\n\u001b[0;31m    nota 1 = 10\u001b[0m\n\u001b[0m         ^\u001b[0m\n\u001b[0;31mSyntaxError\u001b[0m\u001b[0;31m:\u001b[0m invalid syntax\n"
          ]
        }
      ]
    },
    {
      "cell_type": "code",
      "source": [
        "nota um = 10"
      ],
      "metadata": {
        "colab": {
          "base_uri": "https://localhost:8080/",
          "height": 130
        },
        "id": "yPt55H6L9dEO",
        "outputId": "163518a9-76e0-438f-be4d-93c7928d0550"
      },
      "execution_count": null,
      "outputs": [
        {
          "output_type": "error",
          "ename": "SyntaxError",
          "evalue": "ignored",
          "traceback": [
            "\u001b[0;36m  File \u001b[0;32m\"<ipython-input-12-e8c4e7b0fadd>\"\u001b[0;36m, line \u001b[0;32m1\u001b[0m\n\u001b[0;31m    nota um = 10\u001b[0m\n\u001b[0m          ^\u001b[0m\n\u001b[0;31mSyntaxError\u001b[0m\u001b[0;31m:\u001b[0m invalid syntax\n"
          ]
        }
      ]
    },
    {
      "cell_type": "code",
      "source": [
        "1nota = 10"
      ],
      "metadata": {
        "colab": {
          "base_uri": "https://localhost:8080/",
          "height": 130
        },
        "id": "jRXOFqK29c-A",
        "outputId": "52ae51be-77de-4403-e1b7-91ea72b5065e"
      },
      "execution_count": null,
      "outputs": [
        {
          "output_type": "error",
          "ename": "SyntaxError",
          "evalue": "ignored",
          "traceback": [
            "\u001b[0;36m  File \u001b[0;32m\"<ipython-input-13-bcba92da2459>\"\u001b[0;36m, line \u001b[0;32m1\u001b[0m\n\u001b[0;31m    1nota = 10\u001b[0m\n\u001b[0m        ^\u001b[0m\n\u001b[0;31mSyntaxError\u001b[0m\u001b[0;31m:\u001b[0m invalid syntax\n"
          ]
        }
      ]
    },
    {
      "cell_type": "code",
      "source": [
        "nota!s = 10"
      ],
      "metadata": {
        "colab": {
          "base_uri": "https://localhost:8080/",
          "height": 130
        },
        "id": "6EZ2KboK-nWV",
        "outputId": "c7dabe5e-969f-4d8c-e933-00636070d347"
      },
      "execution_count": null,
      "outputs": [
        {
          "output_type": "error",
          "ename": "SyntaxError",
          "evalue": "ignored",
          "traceback": [
            "\u001b[0;36m  File \u001b[0;32m\"<ipython-input-14-26c7e31c851c>\"\u001b[0;36m, line \u001b[0;32m1\u001b[0m\n\u001b[0;31m    nota!s = 10\u001b[0m\n\u001b[0m        ^\u001b[0m\n\u001b[0;31mSyntaxError\u001b[0m\u001b[0;31m:\u001b[0m invalid syntax\n"
          ]
        }
      ]
    },
    {
      "cell_type": "code",
      "source": [
        "nota(w = 10"
      ],
      "metadata": {
        "colab": {
          "base_uri": "https://localhost:8080/",
          "height": 130
        },
        "id": "3TYq7lWP-6H0",
        "outputId": "ef15e9ed-4b29-4e69-9f1a-188d1c5c9b4c"
      },
      "execution_count": null,
      "outputs": [
        {
          "output_type": "error",
          "ename": "SyntaxError",
          "evalue": "ignored",
          "traceback": [
            "\u001b[0;36m  File \u001b[0;32m\"<ipython-input-15-0427473064ec>\"\u001b[0;36m, line \u001b[0;32m1\u001b[0m\n\u001b[0;31m    nota(w = 10\u001b[0m\n\u001b[0m               ^\u001b[0m\n\u001b[0;31mSyntaxError\u001b[0m\u001b[0;31m:\u001b[0m unexpected EOF while parsing\n"
          ]
        }
      ]
    },
    {
      "cell_type": "markdown",
      "source": [
        "### **Tipos de Variáveis**\n",
        "\n",
        "* **Inteiros (int)**: Números positivos, negativos ou o zero.\n",
        "* **Reais (float)**: Números decimais, ou seja, números que possuem partes fracionadas.\n",
        "* **Booleanas (bool)**: Armazenam valores lógicos que podem ser verdadeiro ou falso.\n",
        "* **Strings (caracteres)**: String é uma cadeia de caracteres que representam textos."
      ],
      "metadata": {
        "id": "9AM_QU_o67gn"
      }
    },
    {
      "cell_type": "code",
      "source": [
        "nota = 11"
      ],
      "metadata": {
        "id": "WDJV0qDE7MpS"
      },
      "execution_count": null,
      "outputs": []
    },
    {
      "cell_type": "code",
      "source": [
        "type(nota)"
      ],
      "metadata": {
        "colab": {
          "base_uri": "https://localhost:8080/"
        },
        "id": "cuz0tpt179LT",
        "outputId": "1363590e-566e-4f05-d3f4-6d3fc074885c"
      },
      "execution_count": null,
      "outputs": [
        {
          "output_type": "execute_result",
          "data": {
            "text/plain": [
              "int"
            ]
          },
          "metadata": {},
          "execution_count": 17
        }
      ]
    },
    {
      "cell_type": "code",
      "source": [
        "altura = 1.65"
      ],
      "metadata": {
        "id": "PMsfQoyf8HG1"
      },
      "execution_count": null,
      "outputs": []
    },
    {
      "cell_type": "code",
      "source": [
        "type(altura)"
      ],
      "metadata": {
        "colab": {
          "base_uri": "https://localhost:8080/"
        },
        "id": "njjxvRwq8HDb",
        "outputId": "6b364fd4-0ca2-40e6-ef9b-951af05a18fb"
      },
      "execution_count": null,
      "outputs": [
        {
          "output_type": "execute_result",
          "data": {
            "text/plain": [
              "float"
            ]
          },
          "metadata": {},
          "execution_count": 19
        }
      ]
    },
    {
      "cell_type": "code",
      "source": [
        "verificacao = True  # False"
      ],
      "metadata": {
        "id": "ylKgDU3BARa4"
      },
      "execution_count": null,
      "outputs": []
    },
    {
      "cell_type": "code",
      "source": [
        "type(verificacao)"
      ],
      "metadata": {
        "colab": {
          "base_uri": "https://localhost:8080/"
        },
        "id": "cOho5WcBARUT",
        "outputId": "55945923-4d6d-418a-c399-5f093365202a"
      },
      "execution_count": null,
      "outputs": [
        {
          "output_type": "execute_result",
          "data": {
            "text/plain": [
              "bool"
            ]
          },
          "metadata": {},
          "execution_count": 21
        }
      ]
    },
    {
      "cell_type": "code",
      "source": [
        "mensagem = 'Bem-vindo a Sirius Education'"
      ],
      "metadata": {
        "id": "EThU8gC_Ajkl"
      },
      "execution_count": null,
      "outputs": []
    },
    {
      "cell_type": "code",
      "source": [
        "type(mensagem)"
      ],
      "metadata": {
        "colab": {
          "base_uri": "https://localhost:8080/"
        },
        "id": "nKpRrgiVAuM3",
        "outputId": "1334c9c4-e308-4ce0-9df1-a058270fa976"
      },
      "execution_count": null,
      "outputs": [
        {
          "output_type": "execute_result",
          "data": {
            "text/plain": [
              "str"
            ]
          },
          "metadata": {},
          "execution_count": 25
        }
      ]
    },
    {
      "cell_type": "code",
      "source": [
        "idade = '11'"
      ],
      "metadata": {
        "id": "kVs0cKr1A2Mb"
      },
      "execution_count": null,
      "outputs": []
    },
    {
      "cell_type": "code",
      "source": [
        "type(idade)"
      ],
      "metadata": {
        "colab": {
          "base_uri": "https://localhost:8080/"
        },
        "id": "3Ofr-8ZCA9hS",
        "outputId": "4ad3fb37-acef-4da4-f473-59d4503b5001"
      },
      "execution_count": null,
      "outputs": [
        {
          "output_type": "execute_result",
          "data": {
            "text/plain": [
              "str"
            ]
          },
          "metadata": {},
          "execution_count": 26
        }
      ]
    }
  ]
}